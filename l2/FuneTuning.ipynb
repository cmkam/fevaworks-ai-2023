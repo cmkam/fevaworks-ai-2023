{
 "cells": [
  {
   "cell_type": "markdown",
   "id": "6510a7f3",
   "metadata": {},
   "source": [
    "# Fine-tuning"
   ]
  },
  {
   "cell_type": "markdown",
   "id": "fa3819d7",
   "metadata": {},
   "source": [
    "## Loading the Data\n",
    "In this step, we will load the data from the CSV file into a dictionary object. The csv.DictReader function reads the CSV file row by row and converts each row into a dictionary object.\n",
    "\n",
    "To load the data, we will create a function load_data that takes the CSV file name as an input and returns a list of dictionaries containing the data."
   ]
  },
  {
   "cell_type": "code",
   "execution_count": null,
   "id": "26c74d8a",
   "metadata": {},
   "outputs": [],
   "source": [
    "!pip install pandas"
   ]
  },
  {
   "cell_type": "code",
   "execution_count": null,
   "id": "7a3c4251",
   "metadata": {},
   "outputs": [],
   "source": [
    "filename=\"job_skills.csv\""
   ]
  },
  {
   "cell_type": "code",
   "execution_count": null,
   "id": "73f842bf",
   "metadata": {},
   "outputs": [],
   "source": [
    "import csv\n",
    "\n",
    "def load_data(filename):\n",
    "    with open(filename, 'r') as file:\n",
    "        reader = csv.DictReader(file)\n",
    "        data = [row for row in reader]\n",
    "    return data\n"
   ]
  },
  {
   "cell_type": "code",
   "execution_count": null,
   "id": "bdc5c6b1",
   "metadata": {},
   "outputs": [],
   "source": [
    "import pandas as pd\n",
    "df = pd.read_csv('job_skills.csv')\n",
    "df.head(50)"
   ]
  },
  {
   "cell_type": "markdown",
   "id": "802833e0",
   "metadata": {},
   "source": [
    "## Preparing the Data for OpenAI Finetuning\n",
    "In this step, we will prepare the data for OpenAI finetuning. We will use the data loaded from the CSV file and create a new JSONL file that will be used for finetuning."
   ]
  },
  {
   "cell_type": "code",
   "execution_count": null,
   "id": "4b700f5b",
   "metadata": {},
   "outputs": [],
   "source": [
    "import json\n",
    "\n",
    "# Open the input CSV file\n",
    "with open('job_skills.csv', 'r') as csv_file:\n",
    "    csv_reader = csv.DictReader(csv_file)\n",
    "\n",
    "    # Open the output JSONL file\n",
    "    with open('output.jsonl', 'w') as jsonl_file:\n",
    "        for row in csv_reader:\n",
    "            # Extract the relevant fields from the CSV row\n",
    "            location = row['Location']\n",
    "            responsibilities = row['Responsibilities']\n",
    "            minimum_qualifications = row['Minimum Qualifications']\n",
    "            title = row['Title']\n",
    "            category = row['Category']\n",
    "\n",
    "            # Construct the JSONL object\n",
    "            jsonl_obj = {\n",
    "                'prompt': f'Location: {location}\\nResponsibilities: {responsibilities}\\n Qualifications: {minimum_qualifications}',\n",
    "                'completion': f'{title}\\n{category}'\n",
    "            }\n",
    "\n",
    "            # Write the JSONL object to the output file\n",
    "            jsonl_file.write(json.dumps(jsonl_obj) + '\\n')\n"
   ]
  },
  {
   "cell_type": "code",
   "execution_count": null,
   "id": "af221e01",
   "metadata": {},
   "outputs": [],
   "source": [
    "with open('output.jsonl', 'r') as f:\n",
    "    for i in range(50):\n",
    "        line = f.readline()\n",
    "        print(line)"
   ]
  },
  {
   "cell_type": "markdown",
   "id": "e669e4c7",
   "metadata": {},
   "source": [
    "## Preparing the Data Using the OpenAI Tools Package\n",
    "In this step, we will use the OpenAI tools package to prepare the data for finetuning. The prepare_data function in the tools.fine_tunes module can be used for this purpose.\n",
    "\n",
    "The prepare_data function takes the following arguments:\n",
    "\n",
    "file: The name of the input file in JSONL format.\n",
    "-f: The name of the output file in the GPT-3 training format.\n",
    "To prepare the data using the OpenAI tools package, we will execute the following code in the notebook:"
   ]
  },
  {
   "cell_type": "code",
   "execution_count": null,
   "id": "e077a34d",
   "metadata": {},
   "outputs": [],
   "source": [
    "!pip install openai"
   ]
  },
  {
   "cell_type": "code",
   "execution_count": null,
   "id": "6722dbb0",
   "metadata": {},
   "outputs": [],
   "source": [
    "!yes | openai tools fine_tunes.prepare_data -f output.jsonl"
   ]
  },
  {
   "cell_type": "code",
   "execution_count": null,
   "id": "7f488f57",
   "metadata": {},
   "outputs": [],
   "source": [
    "with open('output_prepared.jsonl', 'r') as f:\n",
    "    for i in range(50):\n",
    "        line = f.readline()\n",
    "        print(line)"
   ]
  },
  {
   "cell_type": "code",
   "execution_count": null,
   "id": "99cb6973",
   "metadata": {},
   "outputs": [],
   "source": []
  }
 ],
 "metadata": {
  "kernelspec": {
   "display_name": "Python 3 (ipykernel)",
   "language": "python",
   "name": "python3"
  },
  "language_info": {
   "codemirror_mode": {
    "name": "ipython",
    "version": 3
   },
   "file_extension": ".py",
   "mimetype": "text/x-python",
   "name": "python",
   "nbconvert_exporter": "python",
   "pygments_lexer": "ipython3",
   "version": "3.9.13"
  }
 },
 "nbformat": 4,
 "nbformat_minor": 5
}
